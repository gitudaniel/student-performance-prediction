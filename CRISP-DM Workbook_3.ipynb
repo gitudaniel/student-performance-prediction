{
 "cells": [
  {
   "cell_type": "markdown",
   "metadata": {},
   "source": [
    "<div align=\"center\" style=\"font-size:20px\">DANIEL GITU</div>\n",
    "<br>\n",
    "<br>\n",
    "<div align=\"center\" style=\"font-size:20px\">DATA SCIENCE INDUSTRIAL PROPOSAL DEVELOPMENT - JAD 303</div>\n",
    "<br>\n",
    "<br>\n",
    "<div align=\"center\" style=\"font-size:20px\">VISUAL ANALYTICS FOR IMPROVING STUDENT LEARNING OUTCOMES</div>\n",
    "<br>\n",
    "<br>\n",
    "<div align=\"center\" style=\"font-size:20px\">JENGA SCHOOL OF DATA SCIENCE AND AI</div>\n",
    "<br>\n",
    "<br>\n",
    "<div align=\"center\" style=\"font-size:20px\">SUPERVISOR: DR. LAWRENCE NDERU</div>\n",
    "<br>\n",
    "<br>\n",
    "<div align=\"center\" style=\"font-size:20px\">24/04/2021</div>"
   ]
  },
  {
   "cell_type": "markdown",
   "metadata": {},
   "source": [
    "# Introduction\n",
    "\n",
    "In Kenya, education is regarded as the key to a successful future. Many children have been told to study hard so that they may amount to something in the future. Studying however, is not always the easiest thing. As educators, we lack a way of comprehensively evaluating children’s competence when it comes to subtopics in a subject like maths or science. Both parents and educators would agree that it would be much easier for them to step in and help children study if they knew the exact areas to dedicate their efforts towards.\n",
    "\n",
    "The client in this project is working to improve overall competence of primary school students. They do this by pointing out the weaknesses a child has in a specific subject. Instead of telling a child that they are weak in math, they are told that they are strong in shapes and weak in geometry. This approach also goes a long way towards debunking the notion that a student is bad at a subject. By showing particular strengths and weaknesses, the educators and parents have a guideline on where to focus their efforts so as to have maximum effect when it comes to improving student outcomes. The client also assists in levelling up student competence by giving them personalized revision tests that focus on their weak areas. Diagnostic tests are given periodically to keep track of how a student is doing with regards to the overall curriculum and determine points of intervention.\n",
    "\n",
    "The aim of this project is to give a visual of the impact the project is having on the learning outcomes of children. The project proposes to achieve this using visual analytics to paint a clear picture of where the students were before intervention, where the students currently are and where the students should be with continued intervention. The task is to ingest the project’s data to try and find any interesting relationships that may exist and actionable insights that may be used for informed decision making. The project will adapt the CRISP-DM methodology to carry out its requirements. CRISP-DM has the following steps.\n",
    "\n",
    "\n",
    "# 1. Business Understanding\n",
    "\n",
    "The project aims to improve students learning outcomes by assessing the level of competence of a student and using that information to predict how a student will perform. The project will be deemed to be very successful if students consistently meet or exceed their predicted performance.\n",
    "Since the project is undertaken within a school setting, the key beneficiaries have been identified to be the school administrator, the project sponsor and teachers of a particular class. The project sponsor comes in since there is a Non-Governmental Organization that sponsors a school. For this project the objectives of the school administrator and the project sponsor are similarly aligned and will be covered under the school administrator.\n",
    "\n",
    "The school administrator is focused on overall stream performance. They would want a birds eye view of how the project is impacting overall performance. It is therefore important to highlight the overall student trend after project intervention. A key measure of success here is showing that student performance has improved as a result of project intervention. Since school administrators are also responsible for resource planning and allocation, it is important to highlight weak areas of study across a stream. This information will help when it comes to identifying areas of study that need to be given more attention and work closely with teachers to close the learning gaps that students may have.\n",
    "\n",
    "A teacher is concerned with the students that they teach. They require more granular information than would be given to a school administrator. It is important to highlight individual student performance as well as most problematic areas of study a specific class has. This will help the teacher in coming up with measures to improve overall class performance and step in to have one on one sessions with students who require a more personalized touch. This project will also highlight the most and least improved students. It is important to reward students for hard work and find out if the least improved students have any personal challenges that need addressing. Teachers are also key to the success of the project. They hand out and collect assessments given to the students and are key to ensuring compliance. This project will provide information on the completion rate of assessments by students to enable the teachers to drive up compliance. It will be a big help if the project is able to show a positive correlation between completion of assessments and improvement of competence.\n",
    "\n",
    "\n",
    "## Inventory of resources\n",
    "\n",
    "The client in this project will also double as a sounding board when it comes to the business and data expertise. As originators of the idea, they posses intricate knowledge of the business and data requirements that the project seeks to fulfill. For the data, the project will use warehoused data for analysis. For any additional data that may be required but not present in the data warehouse, there is access to live data and the tooling to incorporate it into the data warehouse. For the purposes of the project a personal laptop will be used to meet the project requirements with access to a stable internet connection. For data mining, the project has access to dataiku which is currently in use in the project and Apache Superset for dashboarding. Dataiku has inbuilt support for Python and jupyter notebooks.\n",
    "\n",
    "\n",
    "## Risks and contingencies\n",
    "\n",
    "In the project, data is currently stored in managed services. This means that a third party provider is paid to maintain database instances and access to the same. In general this makes the data more secure since it makes it harder for human error to interfere with the database and the data it contains. In practice however, a managed service acts like a black box for your data storage and it becomes imperative to ensure that a data backup strategy is implemented and is audited to ensure that backups are up to date and are easily restored to prevent loss of data.\n",
    "\n",
    "This project is part of a currently running business. This means that there are people who are actively depending on the service when it comes to improving student outcomes. This has become more integral now that once again schools have been closed indefinitely and students are now back home. It has become vital to keep the students academically engaged to prevent regression in competence before the resumption of the school year. As dependence on the project grows, there is an ever present chance that the scope of this project might grow with it. Scope creep if not actively guarded against will lead to non-completion of the project objectives. This project will undertake to stick to the guidelines set out in the objectives as much as possible. Any deviations will be clearly communicated to both the client and the project supervisor as well as any trade offs that need to be made in order to meet the project requirements within the stipulated time.\n",
    "\n",
    "The business also currently relies on some enterprise tooling which is central to its data operations. Loss of access to the same will present a critical roadblock to the continuation of the project. Within the last year there has not been any issues when it comes to access to tooling, but seeing as it is a critical dependence it is important to mention it. In the unlikely event that access to tooling is no longer available, this project will resort to open source tooling to achieve the objectives laid out.\n",
    "\n",
    "\n",
    "## Requirements, assumptions and constraints\n",
    "\n",
    "Currently in the project, it takes a full working day to manually generate a report that can be shared to a stakeholders. The report generation process is very tedious requiring an immense amount of excel expertise and aggregation while barely meeting the recipient’s needs. Furthermore, the report is not generalizable to multiple clients and each request means that the process starts all over again. Bringing in dashboarding will make it easier to meet multiple client requests at a fraction of the effort it takes to currently share insights. With automatic updates, this project will remove the need to regenerate reports, instead updating dashboards as new data is obtained. It will also make it easier for partners to self serve when it comes to assessing project performance since credentials can be shared to enable increased participation by project partners.\n",
    "\n",
    "The business currently computes student competence based on evaluations done. At this point in time not a lot of focus has been put on predictive analytics on performance due to personnel and time constraints. By implementing visual analytics, school administrators are better able to understand the potential impact this project can have on the learning outcomes of students. Computing student performance prediction and showing students actually hitting their predicted performance can serve as an effective tool when it comes to converting skeptical users into paying customers. Regardless of the field, consumers are skeptical of new products in the market and it takes quite a lot of effort to convert a user into a paying customer. Paying customers are the lifeblood of a business. It is important to show value early in an engagement with a customer and show that a product is worth paying for.\n",
    "\n",
    "\n",
    "## Project Plan\n",
    "This project will start with an exploration of the existing data to get a cursory understanding of the data that we’re working with. Since our data is stored primarily in a relational database, it is important to get the relationships present between the various tables. This will be important when it comes to modelling the data later on in the project.\n",
    "\n",
    "Once an understanding of the data has been obtained, the next step is to research on the best predictive analytics models. The research will be limited to models that have been proven to work within an academic setting specifically for predicting student learning outcomes. The project also includes a visual component. Research will need to be carried out to determine the best visualization methods to use in order to effectively communicate to the audience.\n",
    "\n",
    "Next it will be important to develop the data pipelines. With an idea of how the data looks like and knowledge of the models to be employed, it now becomes a task of building pipelines to aggregate our data into a format suitable for model development. The initial iteration of the model will be a simple proof of concept for the researcher to validate that with the data available it is possible to generate predictions for the students currently in the system. Once an initial model has been developed, it is important to test and refine it using existing data points. A part of the data will be used as our validation set to measure the accuracy of prediction for existing data points. Further iterations will be carried out to bring predictive accuracy as close as possible to actual data points without overfitting the data.\n",
    "\n",
    "Once satisfied with model prediction, the next step is to take a step back and see whether the current implementation satisfies the project and business goals. Do the results satisfactorily answer questions that a school administrator or a project owner may have regarding student performance. It will be important to consult with the company founders to evaluate whether there are any business or data gaps that the project might have overlooked. Only when all parties are satisfied can a deployment strategy be devised.\n",
    "\n",
    "When it comes to deployment the business needs will determine the deployment strategy to be employed. A key consideration is the resources available and the ease of maintainability of the deployment framework. The deployment strategy selected should be easy to maintain and should include documentation to make future training and handover easy to do. With deployment also comes updates and maintenance. It is important for the deployment strategy to be resilient to frequent updates and use modern tooling that makes maintaining the framework and debugging any issues that might occur easier.\n",
    "\n",
    "\n",
    "\n",
    "# 2. Data Understanding\n",
    "\n",
    "The evaluation table contains information on an evaluation that was carried out at a school. It has a JSON field that contains all the answers a student selected in an evaluation and can be used to compute a student’s score. All other identifying information is stored as foreign keys. We therefore have foreign keys to the student details and the question paper. The answer selection column will be empty if a student did not do an evaluation.\n",
    "\n",
    "The recommendations table contains a JSON field of recommended taxonomies. Taxonomies are topics of study for example geometry is a taxonomy within math. It also contains a foreign key to the evaluation table so that we can see what taxonomies were recommended within an evaluation and their recommendation status (are they critical or not). The taxonomies table contains the subject, the class level, unit and a specific objective within a unit. The content and notes columns have blanks but it is yet to be determined if they are of critical importance to the project.\n",
    "\n",
    "\n",
    "The students table contains the full name of a student. Each student is assigned a unique identifier within the system. There is still the real world challenge of how to differentiate two students who have similar names in a class when it comes to handing out personalized revision material. We also have foreign keys to the school and the class level tables. The schools table contains the name of the school and the curriculum that the school follows, 8-4-4 or otherwise. The class levels table contains information on the grade level and the class name with a foreign key to the schools table.\n",
    "\n",
    "The question papers table has the subject that the question paper covers, the type of question paper it is (is it a diagnostic paper or personalized revision) the grade and the question paper was assigned to. We also have a PDF upload of the question paper itself. The question order column is a JSON field that contains the ordering of questions in the question paper and a foreign key to the questions table for each question. The questions table contains the grouping of the question. It tells us whether the question is independent or is part of  a group of questions. We are also given the details of the question and a JSON field containing the taxonomies covered by the question and the subject covered by the question. If the question is featured in a question paper it has a foreign key to the question paper table."
   ]
  },
  {
   "cell_type": "code",
   "execution_count": 10,
   "metadata": {},
   "outputs": [
    {
     "name": "stdout",
     "output_type": "stream",
     "text": [
      "Populating the interactive namespace from numpy and matplotlib\n"
     ]
    }
   ],
   "source": [
    "%pylab inline"
   ]
  },
  {
   "cell_type": "code",
   "execution_count": 11,
   "metadata": {},
   "outputs": [],
   "source": [
    "import dataiku\n",
    "import json\n",
    "import matplotlib.pyplot as plt\n",
    "import numpy as np\n",
    "import pandas as pd\n",
    "import seaborn as sns\n",
    "import scipy.stats as ss\n",
    "\n",
    "from dataiku import pandasutils as pdu\n",
    "from statsmodels.distributions.empirical_distribution import ECDF"
   ]
  },
  {
   "cell_type": "code",
   "execution_count": 12,
   "metadata": {},
   "outputs": [
    {
     "name": "stderr",
     "output_type": "stream",
     "text": [
      "/home/dataiku/dataiku-dss-8.0.5/python.packages/IPython/core/interactiveshell.py:2822: DtypeWarning: Columns (6,22,23) have mixed types. Specify dtype option on import or set low_memory=False.\n",
      "  if self.run_code(code, result):\n"
     ]
    }
   ],
   "source": [
    "# Example: load a DSS dataset as a Pandas dataframe\n",
    "mydataset = dataiku.Dataset(\"PIPELINES_AWS.questions_PPL\")\n",
    "questions_df = mydataset.get_dataframe()"
   ]
  },
  {
   "cell_type": "code",
   "execution_count": 13,
   "metadata": {},
   "outputs": [
    {
     "data": {
      "text/html": [
       "\n",
       "            <button style=\"display:none\" \n",
       "            class=\"btn btn-default ipython-export-btn\" \n",
       "            id=\"btn-df-263ea468-8c70-4baa-878a-3753061d1cb2\" \n",
       "            onclick=\"_export_df('263ea468-8c70-4baa-878a-3753061d1cb2')\">\n",
       "                Export dataframe\n",
       "            </button>\n",
       "            \n",
       "            <script>\n",
       "                \n",
       "                function _check_export_df_possible(dfid,yes_fn,no_fn) {\n",
       "                    console.log('Checking dataframe exportability...')\n",
       "                    if(!IPython || !IPython.notebook || !IPython.notebook.kernel || !IPython.notebook.kernel) {\n",
       "                        console.log('Export is not possible (IPython kernel is not available)')\n",
       "                        if(no_fn) {\n",
       "                            no_fn();\n",
       "                        }\n",
       "                    } else {\n",
       "                        var pythonCode = 'from dataiku.notebook.export import IPythonExporter;IPythonExporter._check_export_stdout(\"'+dfid+'\")';\n",
       "                        IPython.notebook.kernel.execute(pythonCode,{iopub: {output: function(resp) {\n",
       "                            console.info(\"Exportability response\", resp);\n",
       "                            var size = /^([0-9]+)x([0-9]+)$/.exec(resp.content.data || resp.content.text)\n",
       "                            if(!size) {\n",
       "                                console.log('Export is not possible (dataframe is not in-memory anymore)')\n",
       "                                if(no_fn) {\n",
       "                                    no_fn();\n",
       "                                }\n",
       "                            } else {\n",
       "                                console.log('Export is possible')\n",
       "                                if(yes_fn) {\n",
       "                                    yes_fn(1*size[1],1*size[2]);\n",
       "                                }\n",
       "                            }\n",
       "                        }}});\n",
       "                    }\n",
       "                }\n",
       "            \n",
       "                function _export_df(dfid) {\n",
       "                    \n",
       "                    var btn = $('#btn-df-'+dfid);\n",
       "                    var btns = $('.ipython-export-btn');\n",
       "                    \n",
       "                    _check_export_df_possible(dfid,function() {\n",
       "                        \n",
       "                        window.parent.openExportModalFromIPython('Pandas dataframe',function(data) {\n",
       "                            btns.prop('disabled',true);\n",
       "                            btn.text('Exporting...');\n",
       "                            var command = 'from dataiku.notebook.export import IPythonExporter;IPythonExporter._run_export(\"'+dfid+'\",\"'+data.exportId+'\")';\n",
       "                            var callback = {iopub:{output: function(resp) {\n",
       "                                console.info(\"CB resp:\", resp);\n",
       "                                _check_export_df_possible(dfid,function(rows, cols) {\n",
       "                                    $('#btn-df-'+dfid)\n",
       "                                        .css('display','inline-block')\n",
       "                                        .text('Export this dataframe ('+rows+' rows, '+cols+' cols)')\n",
       "                                        .prop('disabled',false);\n",
       "                                },function() {\n",
       "                                    $('#btn-df-'+dfid).css('display','none');\n",
       "                                });\n",
       "                            }}};\n",
       "                            IPython.notebook.kernel.execute(command,callback,{silent:false}); // yes, silent now defaults to true. figures.\n",
       "                        });\n",
       "                    \n",
       "                    }, function(){\n",
       "                            alert('Unable to export : the Dataframe object is not loaded in memory');\n",
       "                            btn.css('display','none');\n",
       "                    });\n",
       "                    \n",
       "                }\n",
       "                \n",
       "                (function(dfid) {\n",
       "                \n",
       "                    var retryCount = 10;\n",
       "                \n",
       "                    function is_valid_websock(s) {\n",
       "                        return s && s.readyState==1;\n",
       "                    }\n",
       "                \n",
       "                    function check_conn() {\n",
       "                        \n",
       "                        if(!IPython || !IPython.notebook) {\n",
       "                            // Don't even try to go further\n",
       "                            return;\n",
       "                        }\n",
       "                        \n",
       "                        // Check if IPython is ready\n",
       "                        console.info(\"Checking conn ...\")\n",
       "                        if(IPython.notebook.kernel\n",
       "                        && IPython.notebook.kernel\n",
       "                        && is_valid_websock(IPython.notebook.kernel.ws)\n",
       "                        ) {\n",
       "                            \n",
       "                            _check_export_df_possible(dfid,function(rows, cols) {\n",
       "                                $('#btn-df-'+dfid).css('display','inline-block');\n",
       "                                $('#btn-df-'+dfid).text('Export this dataframe ('+rows+' rows, '+cols+' cols)');\n",
       "                            });\n",
       "                            \n",
       "                        } else {\n",
       "                            console.info(\"Conditions are not ok\", IPython.notebook.kernel);\n",
       "                            \n",
       "                            // Retry later\n",
       "                            \n",
       "                            if(retryCount>0) {\n",
       "                                setTimeout(check_conn,500);\n",
       "                                retryCount--;\n",
       "                            }\n",
       "                            \n",
       "                        }\n",
       "                    };\n",
       "                    \n",
       "                    setTimeout(check_conn,100);\n",
       "                    \n",
       "                })(\"263ea468-8c70-4baa-878a-3753061d1cb2\");\n",
       "                \n",
       "            </script>\n",
       "            \n",
       "        <div>\n",
       "<style scoped>\n",
       "    .dataframe tbody tr th:only-of-type {\n",
       "        vertical-align: middle;\n",
       "    }\n",
       "\n",
       "    .dataframe tbody tr th {\n",
       "        vertical-align: top;\n",
       "    }\n",
       "\n",
       "    .dataframe thead th {\n",
       "        text-align: right;\n",
       "    }\n",
       "</style>\n",
       "<table border=\"1\" class=\"dataframe\">\n",
       "  <thead>\n",
       "    <tr style=\"text-align: right;\">\n",
       "      <th></th>\n",
       "      <th>version</th>\n",
       "    </tr>\n",
       "  </thead>\n",
       "  <tbody>\n",
       "    <tr>\n",
       "      <th>count</th>\n",
       "      <td>53595.000000</td>\n",
       "    </tr>\n",
       "    <tr>\n",
       "      <th>mean</th>\n",
       "      <td>2.112622</td>\n",
       "    </tr>\n",
       "    <tr>\n",
       "      <th>std</th>\n",
       "      <td>0.996731</td>\n",
       "    </tr>\n",
       "    <tr>\n",
       "      <th>min</th>\n",
       "      <td>1.000000</td>\n",
       "    </tr>\n",
       "    <tr>\n",
       "      <th>25%</th>\n",
       "      <td>1.000000</td>\n",
       "    </tr>\n",
       "    <tr>\n",
       "      <th>50%</th>\n",
       "      <td>2.000000</td>\n",
       "    </tr>\n",
       "    <tr>\n",
       "      <th>75%</th>\n",
       "      <td>2.000000</td>\n",
       "    </tr>\n",
       "    <tr>\n",
       "      <th>max</th>\n",
       "      <td>14.000000</td>\n",
       "    </tr>\n",
       "  </tbody>\n",
       "</table>\n",
       "</div>"
      ],
      "text/plain": [
       "            version\n",
       "count  53595.000000\n",
       "mean       2.112622\n",
       "std        0.996731\n",
       "min        1.000000\n",
       "25%        1.000000\n",
       "50%        2.000000\n",
       "75%        2.000000\n",
       "max       14.000000"
      ]
     },
     "execution_count": 13,
     "metadata": {},
     "output_type": "execute_result"
    }
   ],
   "source": [
    "questions_df.describe()"
   ]
  },
  {
   "cell_type": "code",
   "execution_count": 14,
   "metadata": {
    "scrolled": true
   },
   "outputs": [
    {
     "name": "stdout",
     "output_type": "stream",
     "text": [
      "<class 'pandas.core.frame.DataFrame'>\n",
      "RangeIndex: 53596 entries, 0 to 53595\n",
      "Data columns (total 24 columns):\n",
      "_id                              53596 non-null object\n",
      "question_group                   53596 non-null object\n",
      "instruction                      4974 non-null object\n",
      "details                          53583 non-null object\n",
      "taxonomy_ids                     53596 non-null object\n",
      "child_question_ids               53594 non-null object\n",
      "question_paper_id                1012 non-null object\n",
      "subject                          53596 non-null object\n",
      "updated_at                       53596 non-null object\n",
      "created_at                       53596 non-null object\n",
      "question_options                 53596 non-null object\n",
      "clean_details                    4970 non-null object\n",
      "clean_instruction                53580 non-null object\n",
      "complete_status                  53596 non-null bool\n",
      "modifier_id                      53596 non-null object\n",
      "no_issues                        53596 non-null bool\n",
      "version                          53595 non-null float64\n",
      "question_paper_ids               51899 non-null object\n",
      "original_question_paper_grade    33516 non-null object\n",
      "supporting_image                 10642 non-null object\n",
      "supporting_image_url             10642 non-null object\n",
      "image_type                       10715 non-null object\n",
      "html_instruction                 5 non-null object\n",
      "html_details                     858 non-null object\n",
      "dtypes: bool(2), float64(1), object(21)\n",
      "memory usage: 9.1+ MB\n"
     ]
    }
   ],
   "source": [
    "questions_df.info()"
   ]
  },
  {
   "cell_type": "markdown",
   "metadata": {},
   "source": [
    "All records have a taxonomy but the validity of the link to the question paper a question appears in requires further investigation. Furthermore, it remains to be seen whether the question data will be vital to the computation of student competence beyond the information found in the evaluation table."
   ]
  },
  {
   "cell_type": "code",
   "execution_count": 15,
   "metadata": {},
   "outputs": [],
   "source": [
    "evaluations = dataiku.Dataset(\"PIPELINES_AWS.evaluations_PPL\")\n",
    "evaluations_df = evaluations.get_dataframe()"
   ]
  },
  {
   "cell_type": "code",
   "execution_count": 16,
   "metadata": {},
   "outputs": [
    {
     "name": "stdout",
     "output_type": "stream",
     "text": [
      "<class 'pandas.core.frame.DataFrame'>\n",
      "RangeIndex: 16694 entries, 0 to 16693\n",
      "Data columns (total 12 columns):\n",
      "_id                    16694 non-null object\n",
      "question_paper_id      16694 non-null object\n",
      "student_id             16694 non-null object\n",
      "class_evaluation_id    16694 non-null object\n",
      "evaluation_type        16694 non-null object\n",
      "date_of_evaluation     16694 non-null object\n",
      "analytics              7915 non-null object\n",
      "updated_at             16694 non-null object\n",
      "created_at             16694 non-null object\n",
      "answer_selection       7915 non-null object\n",
      "topic_performances     7915 non-null object\n",
      "subject                16453 non-null object\n",
      "dtypes: object(12)\n",
      "memory usage: 1.5+ MB\n"
     ]
    }
   ],
   "source": [
    "evaluations_df.info()"
   ]
  },
  {
   "cell_type": "markdown",
   "metadata": {},
   "source": [
    "The answer selection however is missing a large number of records accounting for $\\approx45\\%$ of the entries. The project will endeavor to determine whether this is a case of non-participation or poor data. Non-participation is possible since it is only possible to have an answer selection if a student attempted an evaluation and submitted the same for processing."
   ]
  },
  {
   "cell_type": "code",
   "execution_count": 58,
   "metadata": {},
   "outputs": [],
   "source": [
    "import json\n",
    "answer_selection = json.loads(evaluations_df.iloc[0]['answer_selection'])"
   ]
  },
  {
   "cell_type": "code",
   "execution_count": 62,
   "metadata": {},
   "outputs": [
    {
     "data": {
      "text/plain": [
       "{u'_id': {u'$oid': u'5ebd1ed2783cb300042f6995'},\n",
       " u'correct': 1,\n",
       " u'question_id': {u'$oid': u'5e8bab19523a7600047f9508'}}"
      ]
     },
     "execution_count": 62,
     "metadata": {},
     "output_type": "execute_result"
    }
   ],
   "source": [
    "answer_selection[0]"
   ]
  },
  {
   "cell_type": "code",
   "execution_count": 18,
   "metadata": {},
   "outputs": [
    {
     "data": {
      "text/plain": [
       "'{ \"competency_score\" : \"Exceeds Expectation\" , \"correct_number\" : 49 , \"wrong_number\" : 1 , \"correct_perc_mark\" : 98}'"
      ]
     },
     "execution_count": 18,
     "metadata": {},
     "output_type": "execute_result"
    }
   ],
   "source": [
    "evaluations_df.iloc[0]['analytics']"
   ]
  },
  {
   "cell_type": "code",
   "execution_count": 19,
   "metadata": {},
   "outputs": [],
   "source": [
    "class_levels = dataiku.Dataset(\"PIPELINES_AWS.class_levels_PPL\")\n",
    "class_levels_df = class_levels.get_dataframe()"
   ]
  },
  {
   "cell_type": "code",
   "execution_count": 20,
   "metadata": {},
   "outputs": [
    {
     "name": "stdout",
     "output_type": "stream",
     "text": [
      "<class 'pandas.core.frame.DataFrame'>\n",
      "RangeIndex: 55 entries, 0 to 54\n",
      "Data columns (total 6 columns):\n",
      "_id           55 non-null object\n",
      "name          55 non-null object\n",
      "grade         55 non-null object\n",
      "school_id     55 non-null object\n",
      "updated_at    55 non-null object\n",
      "created_at    55 non-null object\n",
      "dtypes: object(6)\n",
      "memory usage: 2.6+ KB\n"
     ]
    }
   ],
   "source": [
    "class_levels_df.info()"
   ]
  },
  {
   "cell_type": "code",
   "execution_count": 21,
   "metadata": {},
   "outputs": [],
   "source": [
    "students = dataiku.Dataset(\"PIPELINES_AWS.students_PPL\")\n",
    "students_df = students.get_dataframe()"
   ]
  },
  {
   "cell_type": "code",
   "execution_count": 22,
   "metadata": {},
   "outputs": [
    {
     "name": "stdout",
     "output_type": "stream",
     "text": [
      "<class 'pandas.core.frame.DataFrame'>\n",
      "RangeIndex: 1007 entries, 0 to 1006\n",
      "Data columns (total 10 columns):\n",
      "_id                  1007 non-null object\n",
      "first_name           1007 non-null object\n",
      "last_name            1002 non-null object\n",
      "school_id            1007 non-null object\n",
      "class_level_id       1007 non-null object\n",
      "parent_id            1007 non-null object\n",
      "updated_at           1007 non-null object\n",
      "created_at           1007 non-null object\n",
      "visually_impaired    338 non-null object\n",
      "other_name           479 non-null object\n",
      "dtypes: object(10)\n",
      "memory usage: 78.7+ KB\n"
     ]
    }
   ],
   "source": [
    "students_df.info()"
   ]
  },
  {
   "cell_type": "markdown",
   "metadata": {},
   "source": [
    "5 of the records in the students data do not have a last name attribute. The lack of a last name might not affect the computation of prediction since a student is uniquely identified by their id in the database. It will however affect visualization since it would bring to question the validity of the data from the perspective of the reader of data. The lack of a last name also has real world consequences when it comes to distribution of evaluation sets to students since students may not be able to receive the correct learning pack."
   ]
  },
  {
   "cell_type": "code",
   "execution_count": 23,
   "metadata": {},
   "outputs": [],
   "source": [
    "taxonomies = dataiku.Dataset(\"PIPELINES_AWS.taxonomies_PPL\")\n",
    "taxonomies_df = taxonomies.get_dataframe()"
   ]
  },
  {
   "cell_type": "code",
   "execution_count": 24,
   "metadata": {},
   "outputs": [
    {
     "name": "stdout",
     "output_type": "stream",
     "text": [
      "<class 'pandas.core.frame.DataFrame'>\n",
      "RangeIndex: 1922 entries, 0 to 1921\n",
      "Data columns (total 9 columns):\n",
      "_id                   1922 non-null object\n",
      "subject               1922 non-null object\n",
      "class_level           1922 non-null object\n",
      "unit                  1922 non-null object\n",
      "specific_objective    1922 non-null object\n",
      "upload_key            1426 non-null object\n",
      "content               420 non-null object\n",
      "notes                 16 non-null object\n",
      "question_ids          1428 non-null object\n",
      "dtypes: object(9)\n",
      "memory usage: 135.2+ KB\n"
     ]
    }
   ],
   "source": [
    "taxonomies_df.info()"
   ]
  },
  {
   "cell_type": "markdown",
   "metadata": {},
   "source": [
    "In the taxonomy, the key attributes of interest to this project, namely the subject, class level, unit and specific objective are all populated."
   ]
  },
  {
   "cell_type": "code",
   "execution_count": 56,
   "metadata": {},
   "outputs": [],
   "source": [
    "question_papers = dataiku.Dataset(\"PIPELINES_AWS.question_papers_PPL\")\n",
    "question_papers_df = question_papers.get_dataframe()"
   ]
  },
  {
   "cell_type": "code",
   "execution_count": 57,
   "metadata": {},
   "outputs": [
    {
     "name": "stdout",
     "output_type": "stream",
     "text": [
      "<class 'pandas.core.frame.DataFrame'>\n",
      "RangeIndex: 17566 entries, 0 to 17565\n",
      "Data columns (total 16 columns):\n",
      "_id               17566 non-null object\n",
      "subject           17566 non-null object\n",
      "type              17566 non-null object\n",
      "grade             17566 non-null object\n",
      "source            17566 non-null object\n",
      "details           17566 non-null object\n",
      "question_paper    994 non-null object\n",
      "updated_at        17566 non-null object\n",
      "created_at        17566 non-null object\n",
      "question_order    16621 non-null object\n",
      "question_ids      970 non-null object\n",
      "auto_generated    17566 non-null bool\n",
      "modifier_id       17566 non-null object\n",
      "no_issues         17566 non-null bool\n",
      "version           17563 non-null float64\n",
      "code              17419 non-null object\n",
      "dtypes: bool(2), float64(1), object(13)\n",
      "memory usage: 1.9+ MB\n"
     ]
    }
   ],
   "source": [
    "question_papers_df.info()"
   ]
  },
  {
   "cell_type": "markdown",
   "metadata": {},
   "source": [
    "$\\approx 6\\%$ of the data in question papers has question paper id. A possible work around to this is to use the evaluations table. All evaluations have a question paper id and the answer selection beyond telling us whether a student answered a question correctly also gives us the id of the question the student was answering. "
   ]
  },
  {
   "cell_type": "code",
   "execution_count": 27,
   "metadata": {},
   "outputs": [],
   "source": [
    "schools = dataiku.Dataset(\"PIPELINES_AWS.schools_PPL\")\n",
    "schools_df = schools.get_dataframe()"
   ]
  },
  {
   "cell_type": "code",
   "execution_count": 28,
   "metadata": {},
   "outputs": [
    {
     "name": "stdout",
     "output_type": "stream",
     "text": [
      "<class 'pandas.core.frame.DataFrame'>\n",
      "RangeIndex: 32 entries, 0 to 31\n",
      "Data columns (total 6 columns):\n",
      "_id           32 non-null object\n",
      "name          32 non-null object\n",
      "details       16 non-null object\n",
      "curriculum    29 non-null object\n",
      "updated_at    31 non-null object\n",
      "created_at    31 non-null object\n",
      "dtypes: object(6)\n",
      "memory usage: 1.6+ KB\n"
     ]
    }
   ],
   "source": [
    "schools_df.info()"
   ]
  },
  {
   "cell_type": "code",
   "execution_count": 29,
   "metadata": {},
   "outputs": [
    {
     "data": {
      "text/plain": [
       "_id                    object\n",
       "question_paper_id      object\n",
       "student_id             object\n",
       "class_evaluation_id    object\n",
       "evaluation_type        object\n",
       "date_of_evaluation     object\n",
       "analytics              object\n",
       "updated_at             object\n",
       "created_at             object\n",
       "answer_selection       object\n",
       "topic_performances     object\n",
       "subject                object\n",
       "dtype: object"
      ]
     },
     "execution_count": 29,
     "metadata": {},
     "output_type": "execute_result"
    }
   ],
   "source": [
    "evaluations_df.dtypes"
   ]
  },
  {
   "cell_type": "markdown",
   "metadata": {},
   "source": [
    "We want to expand the analytics json field since it contains information of how a student performed on an evaluation"
   ]
  },
  {
   "cell_type": "code",
   "execution_count": 30,
   "metadata": {},
   "outputs": [],
   "source": [
    "# The json field is rendered as a string in the dataframe\n",
    "# we first convert it into json before converting it into a series object\n",
    "def string_to_dict(dict_string):\n",
    "    try:\n",
    "        data = json.loads(dict_string)\n",
    "    except TypeError:  # handle Nan values\n",
    "        if pd.isna(dict_string):\n",
    "            data = {'competency_score': np.nan, 'correct_number': np.nan, 'wrong_number': np.nan, 'correct_perc_mark': np.nan}\n",
    "    return pd.Series(data)"
   ]
  },
  {
   "cell_type": "code",
   "execution_count": 31,
   "metadata": {},
   "outputs": [],
   "source": [
    "# concatenate the expanded json field into individual columns in the original dataset\n",
    "evals_df = pd.concat([evaluations_df, evaluations_df['analytics'].apply(string_to_dict)], axis=1)"
   ]
  },
  {
   "cell_type": "code",
   "execution_count": 32,
   "metadata": {},
   "outputs": [
    {
     "data": {
      "text/plain": [
       "Index([u'_id', u'question_paper_id', u'student_id', u'class_evaluation_id', u'evaluation_type', u'date_of_evaluation', u'analytics', u'updated_at', u'created_at', u'answer_selection', u'topic_performances', u'subject', u'competency_score', u'correct_number', u'correct_perc_mark', u'wrong_number'], dtype='object')"
      ]
     },
     "execution_count": 32,
     "metadata": {},
     "output_type": "execute_result"
    }
   ],
   "source": [
    "evals_df.columns"
   ]
  },
  {
   "cell_type": "code",
   "execution_count": 33,
   "metadata": {},
   "outputs": [],
   "source": [
    "def get_copy(dataset):\n",
    "    data_nm = dataset.copy()\n",
    "    data_nm = data_nm.dropna()\n",
    "    print(data_nm.head())\n",
    "    return data_nm"
   ]
  },
  {
   "cell_type": "code",
   "execution_count": 34,
   "metadata": {},
   "outputs": [
    {
     "data": {
      "text/plain": [
       "0    98\n",
       "1    64\n",
       "2    82\n",
       "3    70\n",
       "6    57\n",
       "Name: correct_perc_mark, dtype: int64"
      ]
     },
     "execution_count": 34,
     "metadata": {},
     "output_type": "execute_result"
    }
   ],
   "source": [
    "# create a copy of correct_perc_mark and remove nulls for plotting\n",
    "evals_perf = evals_df['correct_perc_mark'].copy()\n",
    "evals_perf = evals_perf.dropna()\n",
    "evals_perf = evals_perf.astype(int)\n",
    "evals_perf.head()"
   ]
  },
  {
   "cell_type": "code",
   "execution_count": 35,
   "metadata": {},
   "outputs": [
    {
     "name": "stdout",
     "output_type": "stream",
     "text": [
      "0    98.0\n",
      "1    64.0\n",
      "2    82.0\n",
      "3    70.0\n",
      "6    57.0\n",
      "Name: correct_perc_mark, dtype: float64\n"
     ]
    }
   ],
   "source": [
    "# Get copies of diagnostics and personalized_revision data\n",
    "diag_df = get_copy(evals_df[evals_df['evaluation_type'] == 'diagnostics']['correct_perc_mark'])"
   ]
  },
  {
   "cell_type": "code",
   "execution_count": 36,
   "metadata": {},
   "outputs": [
    {
     "name": "stdout",
     "output_type": "stream",
     "text": [
      "123    32.0\n",
      "124    56.0\n",
      "125    56.0\n",
      "126    32.0\n",
      "137    42.0\n",
      "Name: correct_perc_mark, dtype: float64\n"
     ]
    }
   ],
   "source": [
    "pers_df = get_copy(evals_df[evals_df['evaluation_type'] == 'personalized_revision']['correct_perc_mark'])"
   ]
  },
  {
   "cell_type": "code",
   "execution_count": 37,
   "metadata": {},
   "outputs": [
    {
     "name": "stderr",
     "output_type": "stream",
     "text": [
      "/home/dataiku/dataiku-dss-8.0.5/python.packages/scipy/stats/stats.py:1713: FutureWarning: Using a non-tuple sequence for multidimensional indexing is deprecated; use `arr[tuple(seq)]` instead of `arr[seq]`. In the future this will be interpreted as an array index, `arr[np.array(seq)]`, which will result either in an error or a different result.\n",
      "  return np.add.reduce(sorted[indexer] * weights, axis=axis) / sumval\n"
     ]
    },
    {
     "data": {
      "image/png": "[encoded data removed]",
      "text/plain": [
       "<Figure size 432x288 with 1 Axes>"
      ]
     },
     "metadata": {},
     "output_type": "display_data"
    }
   ],
   "source": [
    "fig, ax = plt.subplots()\n",
    "sns.distplot(evals_perf, rug=True, ax=ax)\n",
    "ax.set(title='Performance distribution', xlabel='% score', ylabel='Density')\n",
    "ax.axvline(x=evals_perf.median(), color='m', label='Median', linestyle='--', linewidth=2)\n",
    "ax.axvline(x=evals_perf.mean(), color='g', label='Mean', linestyle='-', linewidth=2)\n",
    "ax.legend()\n",
    "plt.show()"
   ]
  },
  {
   "cell_type": "markdown",
   "metadata": {},
   "source": [
    "- The distribution of scores is skewed to the right and most of the students score within the 0-40% range."
   ]
  },
  {
   "cell_type": "code",
   "execution_count": 38,
   "metadata": {},
   "outputs": [
    {
     "data": {
      "image/png": "[encoded data removed]",
      "text/plain": [
       "<Figure size 432x288 with 1 Axes>"
      ]
     },
     "metadata": {},
     "output_type": "display_data"
    }
   ],
   "source": [
    "fig, ax = plt.subplots()\n",
    "\n",
    "ecdf = ECDF(evals_perf)\n",
    "ax.plot(ecdf.x, ecdf.y)\n",
    "ax.set(xlabel='% score', ylabel='Distribution', title='Empirical cumulative distribution of performance')\n",
    "ax.axvline(x=80, color='g', linestyle='--', linewidth=2)\n",
    "plt.show()"
   ]
  },
  {
   "cell_type": "markdown",
   "metadata": {},
   "source": [
    "- The empirical distribution above shows that roughly 10% of the students score 80% and above in an evaluation."
   ]
  },
  {
   "cell_type": "code",
   "execution_count": 39,
   "metadata": {},
   "outputs": [
    {
     "data": {
      "text/plain": [
       "<matplotlib.axes._subplots.AxesSubplot at 0x7fb4b4bfa950>"
      ]
     },
     "execution_count": 39,
     "metadata": {},
     "output_type": "execute_result"
    },
    {
     "data": {
      "image/png": "[encoded data removed]",
      "text/plain": [
       "<Figure size 432x288 with 1 Axes>"
      ]
     },
     "metadata": {},
     "output_type": "display_data"
    }
   ],
   "source": [
    "sns.boxplot(x=evals_perf)"
   ]
  },
  {
   "cell_type": "markdown",
   "metadata": {},
   "source": [
    "- For all evaluations, 25% of scores fall below 30%, the middle 50% fall between 30% and 60% and 75% of all scores are below 60%"
   ]
  },
  {
   "cell_type": "code",
   "execution_count": 40,
   "metadata": {},
   "outputs": [
    {
     "data": {
      "text/plain": [
       "<matplotlib.axes._subplots.AxesSubplot at 0x7fb4b7ce95d0>"
      ]
     },
     "execution_count": 40,
     "metadata": {},
     "output_type": "execute_result"
    },
    {
     "data": {
      "image/png": "[encoded data removed]",
      "text/plain": [
       "<Figure size 432x288 with 1 Axes>"
      ]
     },
     "metadata": {},
     "output_type": "display_data"
    }
   ],
   "source": [
    "sns.boxplot(x=diag_df)"
   ]
  },
  {
   "cell_type": "markdown",
   "metadata": {},
   "source": [
    "- For diagnostic evaluations 25% of scores fall below 35%, the middle 50% fall between 35% and 65% and 75% of all scores are below 65%"
   ]
  },
  {
   "cell_type": "code",
   "execution_count": 41,
   "metadata": {},
   "outputs": [
    {
     "data": {
      "text/plain": [
       "<matplotlib.axes._subplots.AxesSubplot at 0x7fb4b7e5ecd0>"
      ]
     },
     "execution_count": 41,
     "metadata": {},
     "output_type": "execute_result"
    },
    {
     "data": {
      "image/png": "[encoded data removed]",
      "text/plain": [
       "<Figure size 432x288 with 1 Axes>"
      ]
     },
     "metadata": {},
     "output_type": "display_data"
    }
   ],
   "source": [
    "sns.boxplot(x=pers_df)"
   ]
  },
  {
   "cell_type": "markdown",
   "metadata": {},
   "source": [
    "- For personalized revision, 25% of all scores fall below 30%, the middle 50% is between 30% and 55% and 75% of all scores are between 30% and 55%. We also have one outlier that almost got a perfect score on a personalized revision.\n",
    "\n",
    "- We see that people perform slightly better on a diagnostic as opposed to personalized revision."
   ]
  },
  {
   "cell_type": "code",
   "execution_count": 42,
   "metadata": {},
   "outputs": [
    {
     "data": {
      "image/png": "[encoded data removed]",
      "text/plain": [
       "<Figure size 576x288 with 1 Axes>"
      ]
     },
     "metadata": {},
     "output_type": "display_data"
    }
   ],
   "source": [
    "ax = sns.catplot(x='competency_score', kind=\"count\", data=evals_df, height=4, aspect=2)\n",
    "ax.set_xticklabels(rotation=30)\n",
    "plt.show()"
   ]
  },
  {
   "cell_type": "markdown",
   "metadata": {},
   "source": [
    "As we can see from the above graph, a large majority of students who participate in an evaluation are currently below expectation."
   ]
  },
  {
   "cell_type": "code",
   "execution_count": 43,
   "metadata": {},
   "outputs": [],
   "source": [
    "def cramers_v(x, y):\n",
    "    confusion_matrix = pd.crosstab(x,y)\n",
    "    chi2 = ss.chi2_contingency(confusion_matrix)[0]\n",
    "    n = confusion_matrix.sum().sum()\n",
    "    phi2 = chi2/n\n",
    "    r,k = confusion_matrix.shape\n",
    "    phi2corr = max(0, phi2-((k-1)*(r-1))/(n-1))\n",
    "    rcorr = r-((r-1)**2)/(n-1)\n",
    "    kcorr = k-((k-1)**2)/(n-1)\n",
    "    return np.sqrt(phi2corr/min((kcorr-1),(rcorr-1)))"
   ]
  },
  {
   "cell_type": "code",
   "execution_count": 44,
   "metadata": {},
   "outputs": [
    {
     "data": {
      "text/plain": [
       "0.22257745101849655"
      ]
     },
     "execution_count": 44,
     "metadata": {},
     "output_type": "execute_result"
    }
   ],
   "source": [
    "cramers_v(evals_df['competency_score'], evals_df['evaluation_type'])"
   ]
  },
  {
   "cell_type": "markdown",
   "metadata": {},
   "source": [
    "Cramers_V tells us that there is very little correlation between the competency score and the evaluation type. This should mean that students should perform equally as well on the personalized revision as on the diagnostic test."
   ]
  },
  {
   "cell_type": "code",
   "execution_count": 45,
   "metadata": {},
   "outputs": [],
   "source": [
    "confusion_matrix = pd.crosstab(evals_df['competency_score'], evals_df['evaluation_type'])"
   ]
  },
  {
   "cell_type": "code",
   "execution_count": 46,
   "metadata": {},
   "outputs": [
    {
     "data": {
      "image/png": "[encoded data removed]",
      "text/plain": [
       "<Figure size 432x288 with 2 Axes>"
      ]
     },
     "metadata": {},
     "output_type": "display_data"
    }
   ],
   "source": [
    "sns.heatmap(confusion_matrix)\n",
    "plt.show()"
   ]
  },
  {
   "cell_type": "markdown",
   "metadata": {},
   "source": [
    "From the confustion matrix above we can see that more students meet or exceed expectation on the diagnostic evaluations than on the personalized revision. We can also see that more students are approaching or below expectation on the personalized revision than on the diagnostic evaluation"
   ]
  },
  {
   "cell_type": "code",
   "execution_count": 47,
   "metadata": {},
   "outputs": [
    {
     "data": {
      "text/plain": [
       "<seaborn.axisgrid.FacetGrid at 0x7fb4b80dd610>"
      ]
     },
     "execution_count": 47,
     "metadata": {},
     "output_type": "execute_result"
    },
    {
     "data": {
      "image/png": "[encoded data removed]",
      "text/plain": [
       "<Figure size 360x360 with 1 Axes>"
      ]
     },
     "metadata": {},
     "output_type": "display_data"
    }
   ],
   "source": [
    "sns.catplot(x='evaluation_type', kind='count', data=evals_df)"
   ]
  },
  {
   "cell_type": "markdown",
   "metadata": {},
   "source": [
    "More students participate in the personalized revision than on the diagnostic evaluation."
   ]
  },
  {
   "cell_type": "markdown",
   "metadata": {},
   "source": [
    "## Next steps:\n",
    "- Developing the model pipeline\n",
    "- Computing student performance and prediction\n",
    "- Evaluating model performance\n",
    "- Deployment of the final product\n",
    "- Documentation of the process"
   ]
  }
 ],
 "metadata": {
  "creator": "ds_user",
  "customFields": {},
  "kernelspec": {
   "display_name": "Python 3",
   "language": "python",
   "name": "python3"
  },
  "language_info": {
   "codemirror_mode": {
    "name": "ipython",
    "version": 3
   },
   "file_extension": ".py",
   "mimetype": "text/x-python",
   "name": "python",
   "nbconvert_exporter": "python",
   "pygments_lexer": "ipython3",
   "version": "3.8.8"
  },
  "tags": []
 },
 "nbformat": 4,
 "nbformat_minor": 1
}
